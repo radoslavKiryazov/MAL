{
 "cells": [
  {
   "cell_type": "code",
   "execution_count": 1,
   "metadata": {},
   "outputs": [],
   "source": [
    "import os\n",
    "import shutil\n",
    "import random\n",
    "\n",
    "# Define the paths\n",
    "validation_dir = 'Food_Ingredients/Validation'\n",
    "test_dir = 'Food_Ingredients/Test'\n",
    "\n",
    "# Create the Test directory if it doesn't exist\n",
    "if not os.path.exists(test_dir):\n",
    "    os.makedirs(test_dir)\n",
    "\n",
    "# Iterate through each subfolder in the Validation directory\n",
    "for subdir in os.listdir(validation_dir):\n",
    "    subdir_path = os.path.join(validation_dir, subdir)\n",
    "    if os.path.isdir(subdir_path):\n",
    "        # Create the corresponding subfolder in the Test directory\n",
    "        test_subdir_path = os.path.join(test_dir, subdir)\n",
    "        if not os.path.exists(test_subdir_path):\n",
    "            os.makedirs(test_subdir_path)\n",
    "        \n",
    "        # Get all files in the subfolder\n",
    "        files = os.listdir(subdir_path)\n",
    "        random.shuffle(files)\n",
    "        \n",
    "        # Move half of the files to the Test subfolder\n",
    "        num_files_to_move = len(files) // 2\n",
    "        for file in files[:num_files_to_move]:\n",
    "            shutil.move(os.path.join(subdir_path, file), os.path.join(test_subdir_path, file))"
   ]
  },
  {
   "cell_type": "code",
   "execution_count": 23,
   "metadata": {},
   "outputs": [
    {
     "name": "stdout",
     "output_type": "stream",
     "text": [
      "['Carrot/Carrot_9.jpg', 'Carrot/Carrot_6.jpg', 'Carrot/Carrot_5.jpg', 'Carrot/Carrot_7.jpg', 'Carrot/Carrot_3.jpg', 'Coconut/Coconut_6.jpg', 'Coconut/Coconut_4.jpg', 'Coconut/Coconut_5.jpg', 'Sweetcorn/Sweetcorn_3.jpg', 'Sweetcorn/Sweetcorn_6.jpg', 'Sweetcorn/Sweetcorn_10.jpg', 'Sweetcorn/Sweetcorn_9.jpg', 'Sweetcorn/Sweetcorn_1.jpg', 'Turnip/Turnip_8.jpg', 'Turnip/Turnip_10.jpg', 'Turnip/Turnip_3.jpg', 'Turnip/Turnip_6.jpg', 'Turnip/Turnip_2.jpg', 'Sweetpotato/Sweetpotato_7.jpg', 'Sweetpotato/Sweetpotato_3.jpg', 'Sweetpotato/Sweetpotato_2.jpg', 'Sweetpotato/Sweetpotato_10.jpg', 'Sweetpotato/Sweetpotato_5.jpg', 'Corn/Corn_1.jpg', 'Corn/Corn_7.jpg', 'Corn/Corn_9.jpg', 'Corn/Corn_2.jpg', 'Corn/Corn_6.jpg', 'Sponge Gourd/Sponge Gourd_7.jpg', 'Sponge Gourd/Sponge Gourd_3.jpg', 'Sponge Gourd/Sponge Gourd_8.jpg', 'Sponge Gourd/Sponge Gourd_5.jpg', 'Cucumber/Cucumber_5.jpg', 'Cucumber/Cucumber_6.jpg', 'Cucumber/Cucumber_2.jpg', 'Cucumber/Cucumber_9.jpg', 'Cucumber/Cucumber_3.jpg', 'Strawberry/Strawberry_16.jpg', 'Strawberry/Strawberry_11.jpg', 'Strawberry/Strawberry_10.jpg', 'Strawberry/Strawberry_8.jpg', 'Strawberry/Strawberry_2.jpg', 'Strawberry/Strawberry_14.jpg', 'Strawberry/Strawberry_5.jpg', 'Strawberry/Strawberry_4.jpg', 'Fig/Fig_1.jpg', 'Fig/Fig_5.jpg', 'Fig/Fig_2.jpg', 'Orange/Orange_3.jpg', 'Orange/Orange_4.jpg', 'Orange/Orange_6.jpg', 'Orange/Orange_1.jpg', 'Orange/Orange_9.jpg', 'Tomato/Tomato_3.jpg', 'Tomato/Tomato_9.jpg', 'Tomato/Tomato_8.jpg', 'Tomato/Tomato_7.jpg', 'Tomato/Tomato_1.jpg', 'Paprika/Paprika_8.jpg', 'Paprika/Paprika_3.jpg', 'Paprika/Paprika_4.jpg', 'Paprika/Paprika_1.jpg', 'Paprika/Paprika_7.jpg', 'Pomegranate/Pomegranate_6.jpg', 'Pomegranate/Pomegranate_9.jpg', 'Pomegranate/Pomegranate_10.jpg', 'Pomegranate/Pomegranate_2.jpg', 'Pomegranate/Pomegranate_3.jpg', 'Eggplant/Eggplant_7.jpg', 'Eggplant/Eggplant_6.jpg', 'Eggplant/Eggplant_3.jpg', 'Eggplant/Eggplant_9.jpg', 'Eggplant/Eggplant_5.jpg', 'Garlic/Garlic_2.jpg', 'Garlic/Garlic_7.jpg', 'Garlic/Garlic_9.jpg', 'Garlic/Garlic_8.jpg', 'Garlic/Garlic_5.jpg', 'Cauliflower/Cauliflower_3.jpg', 'Cauliflower/Cauliflower_5.jpg', 'Cauliflower/Cauliflower_7.jpg', 'Cauliflower/Cauliflower_1.jpg', 'Cauliflower/Cauliflower_8.jpg', 'Kiwi/Kiwi_3.jpg', 'Kiwi/Kiwi_5.jpg', 'Kiwi/Kiwi_8.jpg', 'Kiwi/Kiwi_6.jpg', 'Kiwi/Kiwi_4.jpg', 'Cantaloupe/Cantaloupe_6.jpg', 'Cantaloupe/Cantaloupe_5.jpg', 'Cantaloupe/Cantaloupe_1.jpg', 'Soy beans/Soy beans_2.jpg', 'Soy beans/Soy beans_3.jpg', 'Soy beans/Soy beans_6.jpg', 'Soy beans/Soy beans_9.jpg', 'Soy beans/Soy beans_10.jpg', 'Bottle Gourd/Bottle Gourd_6.jpg', 'Bottle Gourd/Bottle Gourd_16.jpg', 'Bottle Gourd/Bottle Gourd_1.jpg', 'Bottle Gourd/Bottle Gourd_19.jpg', 'Bottle Gourd/Bottle Gourd_11.jpg', 'Bottle Gourd/Bottle Gourd_2.jpg', 'Bottle Gourd/Bottle Gourd_4.jpg', 'Bottle Gourd/Bottle Gourd_7.jpg', 'Bottle Gourd/Bottle Gourd_9.jpg', 'Bottle Gourd/Bottle Gourd_10.jpg', 'Pumpkin/Pumpkin_8.jpg', 'Pumpkin/Pumpkin_5.jpg', 'Pumpkin/Pumpkin_9.jpg', 'Pumpkin/Pumpkin_4.jpg', 'Pumpkin/Pumpkin_11.jpg', 'Pumpkin/Pumpkin_10.jpg', 'Chilli pepper/Chilli pepper_5.jpg', 'Chilli pepper/Chilli pepper_9.jpg', 'Chilli pepper/Chilli pepper_6.jpg', 'Chilli pepper/Chilli pepper_2.jpg', 'Chilli pepper/Chilli pepper_1.jpg', 'Spiny Groud/Spiny Groud_5.jpg', 'Spiny Groud/Spiny Groud_4.jpg', 'Spiny Groud/Spiny Groud_7.jpg', 'Spiny Groud/Spiny Groud_3.jpg', 'Ginger/Ginger_4.jpg', 'Ginger/Ginger_2.jpg', 'Ginger/Ginger_9.jpg', 'Ginger/Ginger_5.jpg', 'Ginger/Ginger_8.jpg', 'Watermelon/Watermelon_7.jpg', 'Watermelon/Watermelon_10.jpg', 'Watermelon/Watermelon_1.jpg', 'Watermelon/Watermelon_2.jpg', 'Watermelon/Watermelon_6.jpg', 'Raspberry/Raspberry_11.jpg', 'Raspberry/Raspberry_2.jpg', 'Raspberry/Raspberry_15.jpg', 'Raspberry/Raspberry_10.jpg', 'Raspberry/Raspberry_1.jpg', 'Raspberry/Raspberry_14.jpg', 'Raspberry/Raspberry_7.jpg', 'Raspberry/Raspberry_16.jpg', 'Raspberry/Raspberry_5.jpg', 'Potato/Potato_3.jpg', 'Potato/Potato_2.jpg', 'Potato/Potato_8.jpg', 'Potato/Potato_6.jpg', 'Potato/Potato_9.jpg', 'Capsicum/Capsicum_2.jpg', 'Capsicum/Capsicum_3.jpg', 'Capsicum/Capsicum_10.jpg', 'Capsicum/Capsicum_9.jpg', 'Capsicum/Capsicum_1.jpg', 'Bell pepper/Bell pepper_1.jpg', 'Bell pepper/Bell pepper_3.jpg', 'Bell pepper/Bell pepper_9.jpg', 'Bell pepper/Bell pepper_5.jpg', 'Bell pepper/Bell pepper_8.jpg', 'Okra/Okra_2.jpg', 'Okra/Okra_5.jpg', 'Okra/Okra_4.jpg', 'Raddish/Raddish_5.jpg', 'Raddish/Raddish_6.jpg', 'Raddish/Raddish_9.jpg', 'Raddish/Raddish_4.jpg', 'Raddish/Raddish_2.jpg', 'Blueberry/Blueberry_4.jpg', 'Blueberry/Blueberry_1.jpg', 'Blueberry/Blueberry_7.jpg', 'Blueberry/Blueberry_3.jpg', 'Amaranth/Amaranth_1.jpg', 'Amaranth/Amaranth_3.jpg', 'Amaranth/Amaranth_2.jpg', 'Amaranth/Amaranth_9.jpg', 'Amaranth/Amaranth_10.jpg', 'Beetroot/Beetroot_6.jpg', 'Beetroot/Beetroot_8.jpg', 'Beetroot/Beetroot_1.jpg', 'Beetroot/Beetroot_4.jpg', 'Beetroot/Beetroot_9.jpg', 'Onion/Onion_6.jpg', 'Onion/Onion_1.jpg', 'Onion/Onion_3.jpg', 'Onion/Onion_5.jpg', 'Onion/Onion_7.jpg', 'Bitter Gourd/Bitter Gourd_3.jpg', 'Bitter Gourd/Bitter Gourd_4.jpg', 'Bitter Gourd/Bitter Gourd_9.jpg', 'Bitter Gourd/Bitter Gourd_6.jpg', 'Bitter Gourd/Bitter Gourd_11.jpg', 'Bitter Gourd/Bitter Gourd_8.jpg', 'Apple/Apple_4.jpg', 'Apple/Apple_1.jpg', 'Apple/Apple_9.jpg', 'Apple/Apple_10.jpg', 'Apple/Apple_7.jpg', 'Cabbage/Cabbage_4.jpg', 'Cabbage/Cabbage_6.jpg', 'Cabbage/Cabbage_10.jpg', 'Cabbage/Cabbage_8.jpg', 'Cabbage/Cabbage_9.jpg', 'Peas/Peas_5.jpg', 'Peas/Peas_6.jpg', 'Peas/Peas_8.jpg', 'Peas/Peas_1.jpg', 'Peas/Peas_7.jpg', 'Banana/Banana_5.jpg', 'Banana/Banana_3.jpg', 'Banana/Banana_1.jpg', 'Banana/Banana_7.jpg', 'Banana/Banana_4.jpg', 'Mango/Mango_1.jpg', 'Mango/Mango_7.jpg', 'Mango/Mango_2.jpg', 'Mango/Mango_8.jpg', 'Mango/Mango_10.jpg', 'Grapes/Grapes_2.jpg', 'Grapes/Grapes_5.jpg', 'Grapes/Grapes_8.jpg', 'Grapes/Grapes_3.jpg', 'Grapes/Grapes_6.jpg', 'Pear/Pear_2.jpg', 'Pear/Pear_3.jpg', 'Pear/Pear_1.jpg', 'Pear/Pear_6.jpg', 'Pear/Pear_7.jpg', 'Jalepeno/Jalepeno_2.jpg', 'Jalepeno/Jalepeno_7.jpg', 'Jalepeno/Jalepeno_6.jpg', 'Jalepeno/Jalepeno_1.jpg', 'Jalepeno/Jalepeno_4.jpg', 'Spinach/Spinach_8.jpg', 'Spinach/Spinach_10.jpg', 'Spinach/Spinach_6.jpg', 'Spinach/Spinach_9.jpg', 'Spinach/Spinach_3.jpg', 'Ridge Gourd/Ridge Gourd_7.jpg', 'Ridge Gourd/Ridge Gourd_8.jpg', 'Ridge Gourd/Ridge Gourd_2.jpg', 'Ridge Gourd/Ridge Gourd_11.jpg', 'Ridge Gourd/Ridge Gourd_6.jpg', 'Ridge Gourd/Ridge Gourd_5.jpg', 'Broccoli/Broccoli_7.jpg', 'Broccoli/Broccoli_11.jpg', 'Broccoli/Broccoli_3.jpg', 'Broccoli/Broccoli_9.jpg', 'Broccoli/Broccoli_5.jpg', 'Broccoli/Broccoli_1.jpg', 'Broccoli/Broccoli_14.jpg', 'Broccoli/Broccoli_6.jpg', 'Broccoli/Broccoli_16.jpg', 'Lemon/Lemon_2.jpg', 'Lemon/Lemon_1.jpg', 'Lemon/Lemon_6.jpg', 'Lemon/Lemon_9.jpg', 'Lemon/Lemon_10.jpg', 'Pineapple/Pineapple_2.jpg', 'Pineapple/Pineapple_6.jpg', 'Pineapple/Pineapple_10.jpg', 'Pineapple/Pineapple_4.jpg', 'Pineapple/Pineapple_1.jpg', 'Dragon Fruit/Dragon Fruit_1.jpg', 'Dragon Fruit/Dragon Fruit_4.jpg', 'Dragon Fruit/Dragon Fruit_5.jpg', 'Dragon Fruit/Dragon Fruit_2.jpg', 'Dragon Fruit/Dragon Fruit_10.jpg']\n",
      "Number of invalid files: 263\n"
     ]
    }
   ],
   "source": [
    "train_dir = 'Food_Ingredients/Validation'\n",
    "invalid_files = []\n",
    "\n",
    "# Iterate through each subfolder in the Train directory\n",
    "for subdir in os.listdir(train_dir):\n",
    "    subdir_path = os.path.join(train_dir, subdir)\n",
    "    if os.path.isdir(subdir_path):\n",
    "        # Get all files in the subfolder\n",
    "        files = os.listdir(subdir_path)\n",
    "        for file in files:\n",
    "            # Check if the file extension is not jpg, jpeg, png, or bmp\n",
    "            if not file.lower().endswith(( '.jpeg', '.png', '.bmp')):\n",
    "                invalid_files.append(f\"{subdir}/{file}\")\n",
    "\n",
    "print(invalid_files)\n",
    "print(f\"Number of invalid files: {len(invalid_files)}\")"
   ]
  },
  {
   "cell_type": "code",
   "execution_count": 24,
   "metadata": {},
   "outputs": [],
   "source": [
    "from PIL import Image\n",
    "\n",
    "for file_path in invalid_files:\n",
    "    full_path = os.path.join('Food_Ingredients/Validation', file_path)\n",
    "    img = Image.open(full_path)\n",
    "    new_file_path = os.path.splitext(full_path)[0] + '.jpeg'\n",
    "    img.convert('RGB').save(new_file_path, 'JPEG')\n",
    "    os.remove(full_path)  # Remove the original file"
   ]
  },
  {
   "cell_type": "code",
   "execution_count": 25,
   "metadata": {},
   "outputs": [],
   "source": [
    "def replace_spaces_in_subfolder_names(directory):\n",
    "    for subdir in os.listdir(directory):\n",
    "        subdir_path = os.path.join(directory, subdir)\n",
    "        if os.path.isdir(subdir_path):\n",
    "            new_subdir_name = subdir.replace(' ', '_')\n",
    "            new_subdir_path = os.path.join(directory, new_subdir_name)\n",
    "            os.rename(subdir_path, new_subdir_path)\n",
    "\n",
    "# Replace spaces in subfolder names for Train, Validation, and Test directories\n",
    "replace_spaces_in_subfolder_names(train_dir)\n",
    "replace_spaces_in_subfolder_names(validation_dir)\n",
    "replace_spaces_in_subfolder_names(test_dir)"
   ]
  }
 ],
 "metadata": {
  "kernelspec": {
   "display_name": "base",
   "language": "python",
   "name": "python3"
  },
  "language_info": {
   "codemirror_mode": {
    "name": "ipython",
    "version": 3
   },
   "file_extension": ".py",
   "mimetype": "text/x-python",
   "name": "python",
   "nbconvert_exporter": "python",
   "pygments_lexer": "ipython3",
   "version": "3.12.3"
  }
 },
 "nbformat": 4,
 "nbformat_minor": 2
}
