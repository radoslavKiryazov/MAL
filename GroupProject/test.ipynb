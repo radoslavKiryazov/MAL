{
 "cells": [
  {
   "cell_type": "code",
   "execution_count": 4,
   "metadata": {},
   "outputs": [
    {
     "ename": "PermissionError",
     "evalue": "[WinError 32] The process cannot access the file because it is being used by another process: 'Food_Ingredients/Train\\\\Jalepeno\\\\Jalepeno_17.jpg'",
     "output_type": "error",
     "traceback": [
      "\u001b[1;31m---------------------------------------------------------------------------\u001b[0m",
      "\u001b[1;31mPermissionError\u001b[0m                           Traceback (most recent call last)",
      "File \u001b[1;32mc:\\Users\\Ameya Mahankala\\AppData\\Local\\Programs\\Python\\Python312\\Lib\\shutil.py:847\u001b[0m, in \u001b[0;36mmove\u001b[1;34m(src, dst, copy_function)\u001b[0m\n\u001b[0;32m    846\u001b[0m \u001b[38;5;28;01mtry\u001b[39;00m:\n\u001b[1;32m--> 847\u001b[0m     \u001b[43mos\u001b[49m\u001b[38;5;241;43m.\u001b[39;49m\u001b[43mrename\u001b[49m\u001b[43m(\u001b[49m\u001b[43msrc\u001b[49m\u001b[43m,\u001b[49m\u001b[43m \u001b[49m\u001b[43mreal_dst\u001b[49m\u001b[43m)\u001b[49m\n\u001b[0;32m    848\u001b[0m \u001b[38;5;28;01mexcept\u001b[39;00m \u001b[38;5;167;01mOSError\u001b[39;00m:\n",
      "\u001b[1;31mPermissionError\u001b[0m: [WinError 32] The process cannot access the file because it is being used by another process: 'Food_Ingredients/Train\\\\Jalepeno\\\\Jalepeno_17.jpg' -> 'Food_Ingredients/Test\\\\Jalepeno\\\\Jalepeno_17.jpg'",
      "\nDuring handling of the above exception, another exception occurred:\n",
      "\u001b[1;31mPermissionError\u001b[0m                           Traceback (most recent call last)",
      "Cell \u001b[1;32mIn[4], line 29\u001b[0m\n\u001b[0;32m     27\u001b[0m num_files_to_move \u001b[38;5;241m=\u001b[39m \u001b[38;5;28mlen\u001b[39m(files) \u001b[38;5;241m/\u001b[39m\u001b[38;5;241m/\u001b[39m \u001b[38;5;241m2\u001b[39m\n\u001b[0;32m     28\u001b[0m \u001b[38;5;28;01mfor\u001b[39;00m file \u001b[38;5;129;01min\u001b[39;00m files[:num_files_to_move]:\n\u001b[1;32m---> 29\u001b[0m     \u001b[43mshutil\u001b[49m\u001b[38;5;241;43m.\u001b[39;49m\u001b[43mmove\u001b[49m\u001b[43m(\u001b[49m\u001b[43mos\u001b[49m\u001b[38;5;241;43m.\u001b[39;49m\u001b[43mpath\u001b[49m\u001b[38;5;241;43m.\u001b[39;49m\u001b[43mjoin\u001b[49m\u001b[43m(\u001b[49m\u001b[43msubdir_path\u001b[49m\u001b[43m,\u001b[49m\u001b[43m \u001b[49m\u001b[43mfile\u001b[49m\u001b[43m)\u001b[49m\u001b[43m,\u001b[49m\u001b[43m \u001b[49m\u001b[43mos\u001b[49m\u001b[38;5;241;43m.\u001b[39;49m\u001b[43mpath\u001b[49m\u001b[38;5;241;43m.\u001b[39;49m\u001b[43mjoin\u001b[49m\u001b[43m(\u001b[49m\u001b[43mtest_subdir_path\u001b[49m\u001b[43m,\u001b[49m\u001b[43m \u001b[49m\u001b[43mfile\u001b[49m\u001b[43m)\u001b[49m\u001b[43m)\u001b[49m\n",
      "File \u001b[1;32mc:\\Users\\Ameya Mahankala\\AppData\\Local\\Programs\\Python\\Python312\\Lib\\shutil.py:868\u001b[0m, in \u001b[0;36mmove\u001b[1;34m(src, dst, copy_function)\u001b[0m\n\u001b[0;32m    866\u001b[0m     \u001b[38;5;28;01melse\u001b[39;00m:\n\u001b[0;32m    867\u001b[0m         copy_function(src, real_dst)\n\u001b[1;32m--> 868\u001b[0m         \u001b[43mos\u001b[49m\u001b[38;5;241;43m.\u001b[39;49m\u001b[43munlink\u001b[49m\u001b[43m(\u001b[49m\u001b[43msrc\u001b[49m\u001b[43m)\u001b[49m\n\u001b[0;32m    869\u001b[0m \u001b[38;5;28;01mreturn\u001b[39;00m real_dst\n",
      "\u001b[1;31mPermissionError\u001b[0m: [WinError 32] The process cannot access the file because it is being used by another process: 'Food_Ingredients/Train\\\\Jalepeno\\\\Jalepeno_17.jpg'"
     ]
    }
   ],
   "source": [
    "import os\n",
    "import shutil\n",
    "import random\n",
    "\n",
    "# Define the paths\n",
    "validation_dir = 'Food_Ingredients/Train'\n",
    "test_dir = 'Food_Ingredients/Test'\n",
    "\n",
    "# Create the Test directory if it doesn't exist\n",
    "if not os.path.exists(test_dir):\n",
    "    os.makedirs(test_dir)\n",
    "\n",
    "# Iterate through each subfolder in the Validation directory\n",
    "for subdir in os.listdir(validation_dir):\n",
    "    subdir_path = os.path.join(validation_dir, subdir)\n",
    "    if os.path.isdir(subdir_path):\n",
    "        # Create the corresponding subfolder in the Test directory\n",
    "        test_subdir_path = os.path.join(test_dir, subdir)\n",
    "        if not os.path.exists(test_subdir_path):\n",
    "            os.makedirs(test_subdir_path)\n",
    "        \n",
    "        # Get all files in the subfolder\n",
    "        files = os.listdir(subdir_path)\n",
    "        random.shuffle(files)\n",
    "        \n",
    "        # Move half of the files to the Test subfolder\n",
    "        num_files_to_move = len(files) // 2\n",
    "        for file in files[:num_files_to_move]:\n",
    "            shutil.move(os.path.join(subdir_path, file), os.path.join(test_subdir_path, file))"
   ]
  },
  {
   "cell_type": "code",
   "execution_count": 2,
   "metadata": {},
   "outputs": [
    {
     "name": "stdout",
     "output_type": "stream",
     "text": [
      "['Jalepeno/Jalepeno_17.jpg', 'Jalepeno/Jalepeno_29.jpg', 'Jalepeno/Jalepeno_35.jpg', 'Jalepeno/Jalepeno_44.jpg', 'Jalepeno/Jalepeno_5.jpg', 'Jalepeno/Jalepeno_51.jpg', 'Jalepeno/Jalepeno_54.jpg', 'Jalepeno/Jalepeno_55.jpg', 'Jalepeno/Jalepeno_64.jpg', 'Jalepeno/Jalepeno_70.jpg', 'Jalepeno/Jalepeno_78.jpg', 'Jalepeno/Jalepeno_85.jpg', 'Kiwi/Kiwi_25.jpg', 'Kiwi/Kiwi_26.jpg', 'Kiwi/Kiwi_27.jpg', 'Kiwi/Kiwi_31.jpg', 'Kiwi/Kiwi_34.jpg', 'Kiwi/Kiwi_51.jpg', 'Kiwi/Kiwi_58.jpg', 'Kiwi/Kiwi_66.jpg', 'Kiwi/Kiwi_71.jpg', 'Kiwi/Kiwi_82.jpg', 'Kiwi/Kiwi_88.jpg', 'Lemon/Lemon_18.jpg', 'Lemon/Lemon_19.jpg', 'Lemon/Lemon_24.jpg', 'Lemon/Lemon_27.jpg', 'Lemon/Lemon_47.jpg', 'Lemon/Lemon_51.jpg', 'Lemon/Lemon_58.jpg', 'Lemon/Lemon_62.jpg', 'Lemon/Lemon_64.jpg', 'Lemon/Lemon_66.jpg', 'Lemon/Lemon_69.jpg', 'Mango/Mango_10.jpg', 'Mango/Mango_18.jpg', 'Mango/Mango_27.jpg', 'Mango/Mango_28.jpg', 'Mango/Mango_3.jpg', 'Mango/Mango_31.jpg', 'Mango/Mango_36.jpg', 'Mango/Mango_40.jpg', 'Mango/Mango_68.jpg', 'Mango/Mango_71.jpg', 'Mango/Mango_86.jpg', 'Okra/Okra_18.jpg', 'Okra/Okra_2.jpg', 'Okra/Okra_22.jpg', 'Okra/Okra_23.jpg', 'Onion/Onion_11.jpg', 'Onion/Onion_19.jpg', 'Onion/Onion_35.jpg', 'Onion/Onion_38.jpg', 'Onion/Onion_40.jpg', 'Onion/Onion_43.jpg', 'Onion/Onion_57.jpg', 'Onion/Onion_64.jpg', 'Onion/Onion_67.jpg', 'Onion/Onion_71.jpg', 'Onion/Onion_77.jpg', 'Onion/Onion_84.jpg', 'Orange/Orange_2.jpg', 'Orange/Orange_20.jpg', 'Orange/Orange_31.jpg', 'Orange/Orange_37.jpg', 'Orange/Orange_39.jpg', 'Orange/Orange_4.jpg', 'Orange/Orange_55.jpg', 'Orange/Orange_56.jpg', 'Orange/Orange_57.jpg', 'Paprika/Paprika_21.jpg', 'Paprika/Paprika_22.jpg', 'Paprika/Paprika_23.jpg', 'Paprika/Paprika_25.jpg', 'Paprika/Paprika_35.jpg', 'Paprika/Paprika_49.jpg', 'Paprika/Paprika_52.jpg', 'Paprika/Paprika_54.jpg', 'Paprika/Paprika_60.jpg', 'Paprika/Paprika_67.jpg', 'Paprika/Paprika_80.jpg', 'Pear/Pear_3.jpg', 'Pear/Pear_36.jpg', 'Pear/Pear_39.jpg', 'Pear/Pear_4.jpg', 'Pear/Pear_49.jpg', 'Pear/Pear_5.jpg', 'Pear/Pear_50.jpg', 'Pear/Pear_6.jpg', 'Pear/Pear_66.jpg', 'Pear/Pear_73.jpg', 'Pear/Pear_74.jpg', 'Pear/Pear_76.jpg', 'Peas/Peas_16.jpg', 'Peas/Peas_25.jpg', 'Peas/Peas_30.jpg', 'Peas/Peas_32.jpg', 'Peas/Peas_5.jpg', 'Peas/Peas_56.jpg', 'Peas/Peas_57.jpg', 'Peas/Peas_7.jpg', 'Peas/Peas_8.jpg', 'Peas/Peas_88.jpg', 'Peas/Peas_9.jpg', 'Peas/Peas_95.jpg', 'Peas/Peas_97.jpg', 'Pineapple/Pineapple_1.jpg', 'Pineapple/Pineapple_10.jpg', 'Pineapple/Pineapple_16.jpg', 'Pineapple/Pineapple_26.jpg', 'Pineapple/Pineapple_28.jpg', 'Pineapple/Pineapple_34.jpg', 'Pineapple/Pineapple_37.jpg', 'Pineapple/Pineapple_40.jpg', 'Pineapple/Pineapple_43.jpg', 'Pineapple/Pineapple_62.jpg', 'Pineapple/Pineapple_70.jpg', 'Pineapple/Pineapple_8.jpg', 'Pineapple/Pineapple_99.jpg', 'Pomegranate/Pomegranate_14.jpg', 'Pomegranate/Pomegranate_21.jpg', 'Pomegranate/Pomegranate_25.jpg', 'Pomegranate/Pomegranate_31.jpg', 'Pomegranate/Pomegranate_37.jpg', 'Pomegranate/Pomegranate_4.jpg', 'Pomegranate/Pomegranate_5.jpg', 'Pomegranate/Pomegranate_58.jpg', 'Pomegranate/Pomegranate_73.jpg', 'Pomegranate/Pomegranate_9.jpg', 'Potato/Potato_12.jpg', 'Potato/Potato_18.jpg', 'Potato/Potato_36.jpg', 'Potato/Potato_41.jpg', 'Potato/Potato_45.jpg', 'Potato/Potato_47.jpg', 'Potato/Potato_48.jpg', 'Potato/Potato_55.jpg', 'Potato/Potato_64.jpg', 'Potato/Potato_77.jpg', 'Pumpkin/Pumpkin_12.jpg', 'Pumpkin/Pumpkin_25.jpg', 'Pumpkin/Pumpkin_29.jpg', 'Pumpkin/Pumpkin_33.jpg', 'Pumpkin/Pumpkin_37.jpg', 'Pumpkin/Pumpkin_5.jpg', 'Pumpkin/Pumpkin_53.jpg', 'Pumpkin/Pumpkin_58.jpg', 'Pumpkin/Pumpkin_60.jpg', 'Pumpkin/Pumpkin_69.jpg', 'Raddish/Raddish_10.jpg', 'Raddish/Raddish_15.jpg', 'Raddish/Raddish_29.jpg', 'Raddish/Raddish_5.jpg', 'Raddish/Raddish_54.jpg', 'Raddish/Raddish_58.jpg', 'Raddish/Raddish_61.jpg', 'Raddish/Raddish_63.jpg', 'Raddish/Raddish_65.jpg', 'Raddish/Raddish_66.jpg', 'Raddish/Raddish_75.jpg', 'Raspberry/Raspberry_13.jpg', 'Raspberry/Raspberry_14.jpg', 'Raspberry/Raspberry_16.jpg', 'Raspberry/Raspberry_25.jpg', 'Raspberry/Raspberry_32.jpg', 'Raspberry/Raspberry_49.jpg', 'Raspberry/Raspberry_55.jpg', 'Raspberry/Raspberry_59.jpg', 'Raspberry/Raspberry_60.jpg', 'Raspberry/Raspberry_80.jpg', 'Raspberry/Raspberry_9.jpg', 'Ridge Gourd/Ridge Gourd_17.jpg', 'Ridge Gourd/Ridge Gourd_2.jpg', 'Ridge Gourd/Ridge Gourd_27.jpg', 'Ridge Gourd/Ridge Gourd_3.jpg', 'Ridge Gourd/Ridge Gourd_43.jpg', 'Ridge Gourd/Ridge Gourd_45.jpg', 'Ridge Gourd/Ridge Gourd_54.jpg', 'Ridge Gourd/Ridge Gourd_77.jpg', 'Ridge Gourd/Ridge Gourd_78.jpg', 'Ridge Gourd/Ridge Gourd_83.jpg', 'Ridge Gourd/Ridge Gourd_84.jpg', 'Ridge Gourd/Ridge Gourd_93.jpg', 'Soy beans/Soy beans_2.jpg', 'Soy beans/Soy beans_24.jpg', 'Soy beans/Soy beans_30.jpg', 'Soy beans/Soy beans_4.jpg', 'Soy beans/Soy beans_42.jpg', 'Soy beans/Soy beans_5.jpg', 'Soy beans/Soy beans_63.jpg', 'Soy beans/Soy beans_67.jpg', 'Soy beans/Soy beans_74.jpg', 'Soy beans/Soy beans_8.jpg', 'Soy beans/Soy beans_81.jpg', 'Soy beans/Soy beans_9.jpg', 'Soy beans/Soy beans_95.jpg', 'Spinach/Spinach_13.jpg', 'Spinach/Spinach_17.jpg', 'Spinach/Spinach_21.jpg', 'Spinach/Spinach_23.jpg', 'Spinach/Spinach_3.jpg', 'Spinach/Spinach_31.jpg', 'Spinach/Spinach_35.jpg', 'Spinach/Spinach_5.jpg', 'Spinach/Spinach_50.jpg', 'Spinach/Spinach_64.jpg', 'Spinach/Spinach_7.jpg', 'Spinach/Spinach_78.jpg', 'Spinach/Spinach_92.jpg', 'Spiny Gourd/Spiny Gourd_12.jpg', 'Spiny Gourd/Spiny Gourd_17.jpg', 'Spiny Gourd/Spiny Gourd_18.jpg', 'Spiny Gourd/Spiny Gourd_22.jpg', 'Spiny Gourd/Spiny Gourd_23.jpg', 'Spiny Gourd/Spiny Gourd_39.jpg', 'Sponge Gourd/Sponge Gourd_16.jpg', 'Sponge Gourd/Sponge Gourd_18.jpg', 'Sponge Gourd/Sponge Gourd_21.jpg', 'Sponge Gourd/Sponge Gourd_24.jpg', 'Sponge Gourd/Sponge Gourd_46.jpg', 'Sponge Gourd/Sponge Gourd_54.jpg', 'Sponge Gourd/Sponge Gourd_56.jpg', 'Sponge Gourd/Sponge Gourd_61.jpg', 'Strawberry/Strawberry_11.jpg', 'Strawberry/Strawberry_13.jpg', 'Strawberry/Strawberry_16.jpg', 'Strawberry/Strawberry_2.jpg', 'Strawberry/Strawberry_21.jpg', 'Strawberry/Strawberry_39.jpg', 'Strawberry/Strawberry_43.jpg', 'Strawberry/Strawberry_46.jpg', 'Strawberry/Strawberry_50.jpg', 'Strawberry/Strawberry_72.jpg', 'Strawberry/Strawberry_76.jpg', 'Sweetcorn/Sweetcorn_12.jpg', 'Sweetcorn/Sweetcorn_19.jpg', 'Sweetcorn/Sweetcorn_23.jpg', 'Sweetcorn/Sweetcorn_27.jpg', 'Sweetcorn/Sweetcorn_37.jpg', 'Sweetcorn/Sweetcorn_50.jpg', 'Sweetcorn/Sweetcorn_58.jpg', 'Sweetcorn/Sweetcorn_62.jpg', 'Sweetcorn/Sweetcorn_64.jpg', 'Sweetcorn/Sweetcorn_66.jpg', 'Sweetcorn/Sweetcorn_70.jpg', 'Sweetcorn/Sweetcorn_89.jpg', 'Sweetpotato/Sweetpotato_15.jpg', 'Sweetpotato/Sweetpotato_17.jpg', 'Sweetpotato/Sweetpotato_18.jpg', 'Sweetpotato/Sweetpotato_2.jpg', 'Sweetpotato/Sweetpotato_32.jpg', 'Sweetpotato/Sweetpotato_4.jpg', 'Sweetpotato/Sweetpotato_6.jpg', 'Sweetpotato/Sweetpotato_62.jpg', 'Sweetpotato/Sweetpotato_9.jpg', 'Tomato/Tomato_1.jpg', 'Tomato/Tomato_15.jpg', 'Tomato/Tomato_27.jpg', 'Tomato/Tomato_32.jpg', 'Tomato/Tomato_38.jpg', 'Tomato/Tomato_47.jpg', 'Tomato/Tomato_52.jpg', 'Tomato/Tomato_53.jpg', 'Tomato/Tomato_67.jpg', 'Tomato/Tomato_68.jpg', 'Tomato/Tomato_75.jpg', 'Tomato/Tomato_90.jpg', 'Turnip/Turnip_13.jpg', 'Turnip/Turnip_16.jpg', 'Turnip/Turnip_17.jpg', 'Turnip/Turnip_23.jpg', 'Turnip/Turnip_25.jpg', 'Turnip/Turnip_58.jpg', 'Turnip/Turnip_68.jpg', 'Turnip/Turnip_7.jpg', 'Turnip/Turnip_76.jpg', 'Turnip/Turnip_82.jpg', 'Turnip/Turnip_89.jpg', 'Turnip/Turnip_9.jpg', 'Turnip/Turnip_91.jpg', 'Watermelon/Watermelon_12.jpg', 'Watermelon/Watermelon_13.jpg', 'Watermelon/Watermelon_27.jpg', 'Watermelon/Watermelon_3.jpg', 'Watermelon/Watermelon_33.jpg', 'Watermelon/Watermelon_36.jpg', 'Watermelon/Watermelon_43.jpg', 'Watermelon/Watermelon_51.jpg', 'Watermelon/Watermelon_53.jpg', 'Watermelon/Watermelon_66.jpg', 'Watermelon/Watermelon_81.jpg']\n",
      "Number of invalid files: 291\n"
     ]
    }
   ],
   "source": [
    "train_dir = 'Food_Ingredients\\Train'\n",
    "invalid_files = []\n",
    "\n",
    "# Iterate through each subfolder in the Train directory\n",
    "for subdir in os.listdir(train_dir):\n",
    "    subdir_path = os.path.join(train_dir, subdir)\n",
    "    if os.path.isdir(subdir_path):\n",
    "        # Get all files in the subfolder\n",
    "        files = os.listdir(subdir_path)\n",
    "        for file in files:\n",
    "            # Check if the file extension is not jpg, jpeg, png, or bmp\n",
    "            if not file.lower().endswith(( '.jpeg', '.png', '.bmp')):\n",
    "                invalid_files.append(f\"{subdir}\\{file}\")\n",
    "\n",
    "print(invalid_files)\n",
    "print(f\"Number of invalid files: {len(invalid_files)}\")"
   ]
  },
  {
   "cell_type": "code",
   "execution_count": null,
   "metadata": {},
   "outputs": [
    {
     "ename": "PermissionError",
     "evalue": "[WinError 32] The process cannot access the file because it is being used by another process: 'Food_Ingredients/Train\\\\Jalepeno/Jalepeno_17.jpg'",
     "output_type": "error",
     "traceback": [
      "\u001b[1;31m---------------------------------------------------------------------------\u001b[0m",
      "\u001b[1;31mPermissionError\u001b[0m                           Traceback (most recent call last)",
      "Cell \u001b[1;32mIn[3], line 8\u001b[0m\n\u001b[0;32m      6\u001b[0m new_file_path \u001b[38;5;241m=\u001b[39m os\u001b[38;5;241m.\u001b[39mpath\u001b[38;5;241m.\u001b[39msplitext(full_path)[\u001b[38;5;241m0\u001b[39m] \u001b[38;5;241m+\u001b[39m \u001b[38;5;124m'\u001b[39m\u001b[38;5;124m.jpeg\u001b[39m\u001b[38;5;124m'\u001b[39m\n\u001b[0;32m      7\u001b[0m img\u001b[38;5;241m.\u001b[39mconvert(\u001b[38;5;124m'\u001b[39m\u001b[38;5;124mRGB\u001b[39m\u001b[38;5;124m'\u001b[39m)\u001b[38;5;241m.\u001b[39msave(new_file_path, \u001b[38;5;124m'\u001b[39m\u001b[38;5;124mJPEG\u001b[39m\u001b[38;5;124m'\u001b[39m)\n\u001b[1;32m----> 8\u001b[0m \u001b[43mos\u001b[49m\u001b[38;5;241;43m.\u001b[39;49m\u001b[43mremove\u001b[49m\u001b[43m(\u001b[49m\u001b[43mfull_path\u001b[49m\u001b[43m)\u001b[49m  \u001b[38;5;66;03m# Remove the original file\u001b[39;00m\n",
      "\u001b[1;31mPermissionError\u001b[0m: [WinError 32] The process cannot access the file because it is being used by another process: 'Food_Ingredients/Train\\\\Jalepeno/Jalepeno_17.jpg'"
     ]
    }
   ],
   "source": [
    "from PIL import Image\n",
    "\n",
    "for file_path in invalid_files:\n",
    "    full_path = os.path.join('Food_Ingredients/Train', file_path)\n",
    "    img = Image.open(full_path)\n",
    "    new_file_path = os.path.splitext(full_path)[0] + '.jpeg'\n",
    "    img.convert('RGB').save(new_file_path, 'JPEG')\n",
    "    os.remove(full_path)  # Remove the original file"
   ]
  },
  {
   "cell_type": "code",
   "execution_count": 4,
   "metadata": {},
   "outputs": [],
   "source": [
    "def replace_spaces_in_subfolder_names(directory):\n",
    "    for subdir in os.listdir(directory):\n",
    "        subdir_path = os.path.join(directory, subdir)\n",
    "        if os.path.isdir(subdir_path):\n",
    "            new_subdir_name = subdir.replace(' ', '_')\n",
    "            new_subdir_path = os.path.join(directory, new_subdir_name)\n",
    "            os.rename(subdir_path, new_subdir_path)\n",
    "\n",
    "# Replace spaces in subfolder names for Train, Validation, and Test directories\n",
    "replace_spaces_in_subfolder_names(train_dir)\n",
    "replace_spaces_in_subfolder_names(validation_dir)\n",
    "replace_spaces_in_subfolder_names(test_dir)"
   ]
  }
 ],
 "metadata": {
  "kernelspec": {
   "display_name": "Python 3",
   "language": "python",
   "name": "python3"
  },
  "language_info": {
   "codemirror_mode": {
    "name": "ipython",
    "version": 3
   },
   "file_extension": ".py",
   "mimetype": "text/x-python",
   "name": "python",
   "nbconvert_exporter": "python",
   "pygments_lexer": "ipython3",
   "version": "3.12.4"
  }
 },
 "nbformat": 4,
 "nbformat_minor": 2
}
